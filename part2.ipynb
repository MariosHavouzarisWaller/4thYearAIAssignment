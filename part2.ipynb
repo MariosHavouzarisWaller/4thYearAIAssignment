{
 "cells": [
  {
   "cell_type": "markdown",
   "id": "3538b17e",
   "metadata": {},
   "source": [
    "# Part 2:\n",
    "# 2.1 First Bullet Point: High influx between 30 to 50. Small bump around 90.\n",
    "# 2.1 Second Bullet Point: 'All-Bran with Extra Fiber'. Explains small bump on kde plot."
   ]
  },
  {
   "cell_type": "code",
   "execution_count": 82,
   "id": "9f0a6b2f",
   "metadata": {},
   "outputs": [
    {
     "name": "stdout",
     "output_type": "stream",
     "text": [
      "                          mfr type  calories  protein  fat  sodium  fiber  \\\n",
      "name                                                                        \n",
      "100% Bran                   N    C        70        4    1     130   10.0   \n",
      "100% Natural Bran           Q    C       120        3    5      15    2.0   \n",
      "All-Bran                    K    C        70        4    1     260    9.0   \n",
      "All-Bran with Extra Fiber   K    C        50        4    0     140   14.0   \n",
      "Almond Delight              R    C       110        2    2     200    1.0   \n",
      "...                        ..  ...       ...      ...  ...     ...    ...   \n",
      "Triples                     G    C       110        2    1     250    0.0   \n",
      "Trix                        G    C       110        1    1     140    0.0   \n",
      "Wheat Chex                  R    C       100        3    1     230    3.0   \n",
      "Wheaties                    G    C       100        3    1     200    3.0   \n",
      "Wheaties Honey Gold         G    C       110        2    1     200    1.0   \n",
      "\n",
      "                           carbo  sugars  potass  vitamins  shelf  weight  \\\n",
      "name                                                                        \n",
      "100% Bran                    5.0       6     280        25      3     1.0   \n",
      "100% Natural Bran            8.0       8     135         0      3     1.0   \n",
      "All-Bran                     7.0       5     320        25      3     1.0   \n",
      "All-Bran with Extra Fiber    8.0       0     330        25      3     1.0   \n",
      "Almond Delight              14.0       8      -1        25      3     1.0   \n",
      "...                          ...     ...     ...       ...    ...     ...   \n",
      "Triples                     21.0       3      60        25      3     1.0   \n",
      "Trix                        13.0      12      25        25      2     1.0   \n",
      "Wheat Chex                  17.0       3     115        25      1     1.0   \n",
      "Wheaties                    17.0       3     110        25      1     1.0   \n",
      "Wheaties Honey Gold         16.0       8      60        25      1     1.0   \n",
      "\n",
      "                           cups     rating  \n",
      "name                                        \n",
      "100% Bran                  0.33  68.402973  \n",
      "100% Natural Bran          1.00  33.983679  \n",
      "All-Bran                   0.33  59.425505  \n",
      "All-Bran with Extra Fiber  0.50  93.704912  \n",
      "Almond Delight             0.75  34.384843  \n",
      "...                         ...        ...  \n",
      "Triples                    0.75  39.106174  \n",
      "Trix                       1.00  27.753301  \n",
      "Wheat Chex                 0.67  49.787445  \n",
      "Wheaties                   1.00  51.592193  \n",
      "Wheaties Honey Gold        0.75  36.187559  \n",
      "\n",
      "[77 rows x 15 columns]\n",
      "<class 'pandas.core.frame.DataFrame'>\n",
      "Index: 77 entries, 100% Bran to Wheaties Honey Gold\n",
      "Data columns (total 15 columns):\n",
      " #   Column    Non-Null Count  Dtype  \n",
      "---  ------    --------------  -----  \n",
      " 0   mfr       77 non-null     object \n",
      " 1   type      77 non-null     object \n",
      " 2   calories  77 non-null     int64  \n",
      " 3   protein   77 non-null     int64  \n",
      " 4   fat       77 non-null     int64  \n",
      " 5   sodium    77 non-null     int64  \n",
      " 6   fiber     77 non-null     float64\n",
      " 7   carbo     77 non-null     float64\n",
      " 8   sugars    77 non-null     int64  \n",
      " 9   potass    77 non-null     int64  \n",
      " 10  vitamins  77 non-null     int64  \n",
      " 11  shelf     77 non-null     int64  \n",
      " 12  weight    77 non-null     float64\n",
      " 13  cups      77 non-null     float64\n",
      " 14  rating    77 non-null     float64\n",
      "dtypes: float64(5), int64(8), object(2)\n",
      "memory usage: 9.6+ KB\n"
     ]
    },
    {
     "data": {
      "text/html": [
       "<div>\n",
       "<style scoped>\n",
       "    .dataframe tbody tr th:only-of-type {\n",
       "        vertical-align: middle;\n",
       "    }\n",
       "\n",
       "    .dataframe tbody tr th {\n",
       "        vertical-align: top;\n",
       "    }\n",
       "\n",
       "    .dataframe thead th {\n",
       "        text-align: right;\n",
       "    }\n",
       "</style>\n",
       "<table border=\"1\" class=\"dataframe\">\n",
       "  <thead>\n",
       "    <tr style=\"text-align: right;\">\n",
       "      <th></th>\n",
       "      <th>calories</th>\n",
       "      <th>protein</th>\n",
       "      <th>fat</th>\n",
       "      <th>sodium</th>\n",
       "      <th>fiber</th>\n",
       "      <th>carbo</th>\n",
       "      <th>sugars</th>\n",
       "      <th>potass</th>\n",
       "      <th>vitamins</th>\n",
       "      <th>shelf</th>\n",
       "      <th>weight</th>\n",
       "      <th>cups</th>\n",
       "      <th>rating</th>\n",
       "    </tr>\n",
       "  </thead>\n",
       "  <tbody>\n",
       "    <tr>\n",
       "      <th>count</th>\n",
       "      <td>77.000000</td>\n",
       "      <td>77.000000</td>\n",
       "      <td>77.000000</td>\n",
       "      <td>77.000000</td>\n",
       "      <td>77.000000</td>\n",
       "      <td>77.000000</td>\n",
       "      <td>77.000000</td>\n",
       "      <td>77.000000</td>\n",
       "      <td>77.000000</td>\n",
       "      <td>77.000000</td>\n",
       "      <td>77.000000</td>\n",
       "      <td>77.000000</td>\n",
       "      <td>77.000000</td>\n",
       "    </tr>\n",
       "    <tr>\n",
       "      <th>mean</th>\n",
       "      <td>106.883117</td>\n",
       "      <td>2.545455</td>\n",
       "      <td>1.012987</td>\n",
       "      <td>159.675325</td>\n",
       "      <td>2.151948</td>\n",
       "      <td>14.597403</td>\n",
       "      <td>6.922078</td>\n",
       "      <td>96.077922</td>\n",
       "      <td>28.246753</td>\n",
       "      <td>2.207792</td>\n",
       "      <td>1.029610</td>\n",
       "      <td>0.821039</td>\n",
       "      <td>42.665705</td>\n",
       "    </tr>\n",
       "    <tr>\n",
       "      <th>std</th>\n",
       "      <td>19.484119</td>\n",
       "      <td>1.094790</td>\n",
       "      <td>1.006473</td>\n",
       "      <td>83.832295</td>\n",
       "      <td>2.383364</td>\n",
       "      <td>4.278956</td>\n",
       "      <td>4.444885</td>\n",
       "      <td>71.286813</td>\n",
       "      <td>22.342523</td>\n",
       "      <td>0.832524</td>\n",
       "      <td>0.150477</td>\n",
       "      <td>0.232716</td>\n",
       "      <td>14.047289</td>\n",
       "    </tr>\n",
       "    <tr>\n",
       "      <th>min</th>\n",
       "      <td>50.000000</td>\n",
       "      <td>1.000000</td>\n",
       "      <td>0.000000</td>\n",
       "      <td>0.000000</td>\n",
       "      <td>0.000000</td>\n",
       "      <td>-1.000000</td>\n",
       "      <td>-1.000000</td>\n",
       "      <td>-1.000000</td>\n",
       "      <td>0.000000</td>\n",
       "      <td>1.000000</td>\n",
       "      <td>0.500000</td>\n",
       "      <td>0.250000</td>\n",
       "      <td>18.042851</td>\n",
       "    </tr>\n",
       "    <tr>\n",
       "      <th>25%</th>\n",
       "      <td>100.000000</td>\n",
       "      <td>2.000000</td>\n",
       "      <td>0.000000</td>\n",
       "      <td>130.000000</td>\n",
       "      <td>1.000000</td>\n",
       "      <td>12.000000</td>\n",
       "      <td>3.000000</td>\n",
       "      <td>40.000000</td>\n",
       "      <td>25.000000</td>\n",
       "      <td>1.000000</td>\n",
       "      <td>1.000000</td>\n",
       "      <td>0.670000</td>\n",
       "      <td>33.174094</td>\n",
       "    </tr>\n",
       "    <tr>\n",
       "      <th>50%</th>\n",
       "      <td>110.000000</td>\n",
       "      <td>3.000000</td>\n",
       "      <td>1.000000</td>\n",
       "      <td>180.000000</td>\n",
       "      <td>2.000000</td>\n",
       "      <td>14.000000</td>\n",
       "      <td>7.000000</td>\n",
       "      <td>90.000000</td>\n",
       "      <td>25.000000</td>\n",
       "      <td>2.000000</td>\n",
       "      <td>1.000000</td>\n",
       "      <td>0.750000</td>\n",
       "      <td>40.400208</td>\n",
       "    </tr>\n",
       "    <tr>\n",
       "      <th>75%</th>\n",
       "      <td>110.000000</td>\n",
       "      <td>3.000000</td>\n",
       "      <td>2.000000</td>\n",
       "      <td>210.000000</td>\n",
       "      <td>3.000000</td>\n",
       "      <td>17.000000</td>\n",
       "      <td>11.000000</td>\n",
       "      <td>120.000000</td>\n",
       "      <td>25.000000</td>\n",
       "      <td>3.000000</td>\n",
       "      <td>1.000000</td>\n",
       "      <td>1.000000</td>\n",
       "      <td>50.828392</td>\n",
       "    </tr>\n",
       "    <tr>\n",
       "      <th>max</th>\n",
       "      <td>160.000000</td>\n",
       "      <td>6.000000</td>\n",
       "      <td>5.000000</td>\n",
       "      <td>320.000000</td>\n",
       "      <td>14.000000</td>\n",
       "      <td>23.000000</td>\n",
       "      <td>15.000000</td>\n",
       "      <td>330.000000</td>\n",
       "      <td>100.000000</td>\n",
       "      <td>3.000000</td>\n",
       "      <td>1.500000</td>\n",
       "      <td>1.500000</td>\n",
       "      <td>93.704912</td>\n",
       "    </tr>\n",
       "  </tbody>\n",
       "</table>\n",
       "</div>"
      ],
      "text/plain": [
       "         calories    protein        fat      sodium      fiber      carbo  \\\n",
       "count   77.000000  77.000000  77.000000   77.000000  77.000000  77.000000   \n",
       "mean   106.883117   2.545455   1.012987  159.675325   2.151948  14.597403   \n",
       "std     19.484119   1.094790   1.006473   83.832295   2.383364   4.278956   \n",
       "min     50.000000   1.000000   0.000000    0.000000   0.000000  -1.000000   \n",
       "25%    100.000000   2.000000   0.000000  130.000000   1.000000  12.000000   \n",
       "50%    110.000000   3.000000   1.000000  180.000000   2.000000  14.000000   \n",
       "75%    110.000000   3.000000   2.000000  210.000000   3.000000  17.000000   \n",
       "max    160.000000   6.000000   5.000000  320.000000  14.000000  23.000000   \n",
       "\n",
       "          sugars      potass    vitamins      shelf     weight       cups  \\\n",
       "count  77.000000   77.000000   77.000000  77.000000  77.000000  77.000000   \n",
       "mean    6.922078   96.077922   28.246753   2.207792   1.029610   0.821039   \n",
       "std     4.444885   71.286813   22.342523   0.832524   0.150477   0.232716   \n",
       "min    -1.000000   -1.000000    0.000000   1.000000   0.500000   0.250000   \n",
       "25%     3.000000   40.000000   25.000000   1.000000   1.000000   0.670000   \n",
       "50%     7.000000   90.000000   25.000000   2.000000   1.000000   0.750000   \n",
       "75%    11.000000  120.000000   25.000000   3.000000   1.000000   1.000000   \n",
       "max    15.000000  330.000000  100.000000   3.000000   1.500000   1.500000   \n",
       "\n",
       "          rating  \n",
       "count  77.000000  \n",
       "mean   42.665705  \n",
       "std    14.047289  \n",
       "min    18.042851  \n",
       "25%    33.174094  \n",
       "50%    40.400208  \n",
       "75%    50.828392  \n",
       "max    93.704912  "
      ]
     },
     "execution_count": 82,
     "metadata": {},
     "output_type": "execute_result"
    }
   ],
   "source": [
    "import pandas as pd\n",
    "import numpy as np\n",
    "import matplotlib.pyplot as plt\n",
    "\n",
    "data = pd.read_csv('cereal.csv', index_col=0)\n",
    "print(data)\n",
    "\n",
    "data.info()\n",
    "data.describe()"
   ]
  },
  {
   "cell_type": "code",
   "execution_count": 14,
   "id": "b4654124",
   "metadata": {},
   "outputs": [
    {
     "data": {
      "text/plain": [
       "<AxesSubplot:ylabel='Density'>"
      ]
     },
     "execution_count": 14,
     "metadata": {},
     "output_type": "execute_result"
    },
    {
     "data": {
      "image/png": "[encoded data removed]",
      "text/plain": [
       "<Figure size 432x288 with 1 Axes>"
      ]
     },
     "metadata": {
      "needs_background": "light"
     },
     "output_type": "display_data"
    }
   ],
   "source": [
    "data['rating'].plot.kde()"
   ]
  },
  {
   "cell_type": "code",
   "execution_count": 30,
   "id": "0b9dc02b",
   "metadata": {},
   "outputs": [
    {
     "data": {
      "text/plain": [
       "'All-Bran with Extra Fiber'"
      ]
     },
     "execution_count": 30,
     "metadata": {},
     "output_type": "execute_result"
    }
   ],
   "source": [
    "data['rating'].idxmax()"
   ]
  },
  {
   "cell_type": "code",
   "execution_count": 31,
   "id": "b2e082f9",
   "metadata": {},
   "outputs": [
    {
     "data": {
      "text/plain": [
       "mfr                 K\n",
       "type                C\n",
       "calories           50\n",
       "protein             4\n",
       "fat                 0\n",
       "sodium            140\n",
       "fiber            14.0\n",
       "carbo             8.0\n",
       "sugars              0\n",
       "potass            330\n",
       "vitamins           25\n",
       "shelf               3\n",
       "weight            1.0\n",
       "cups              0.5\n",
       "rating      93.704912\n",
       "Name: All-Bran with Extra Fiber, dtype: object"
      ]
     },
     "execution_count": 31,
     "metadata": {},
     "output_type": "execute_result"
    }
   ],
   "source": [
    "# Further information on highest rated manufacturer\n",
    "data.loc[data['rating'].idxmax]"
   ]
  },
  {
   "cell_type": "code",
   "execution_count": 39,
   "id": "5267d11d",
   "metadata": {},
   "outputs": [
    {
     "data": {
      "text/plain": [
       "<AxesSubplot:xlabel='rating', ylabel='mfr'>"
      ]
     },
     "execution_count": 39,
     "metadata": {},
     "output_type": "execute_result"
    },
    {
     "data": {
      "image/png": "[encoded data removed]",
      "text/plain": [
       "<Figure size 432x288 with 1 Axes>"
      ]
     },
     "metadata": {
      "needs_background": "light"
     },
     "output_type": "display_data"
    }
   ],
   "source": [
    "# Further distribution of manufacturer rating\n",
    "data.plot.scatter(x='rating',y='mfr')"
   ]
  },
  {
   "cell_type": "code",
   "execution_count": 68,
   "id": "e613f016",
   "metadata": {},
   "outputs": [
    {
     "data": {
      "text/plain": [
       "<AxesSubplot:ylabel='Frequency'>"
      ]
     },
     "execution_count": 68,
     "metadata": {},
     "output_type": "execute_result"
    },
    {
     "data": {
      "image/png": "[encoded data removed]",
      "text/plain": [
       "<Figure size 432x288 with 1 Axes>"
      ]
     },
     "metadata": {
      "needs_background": "light"
     },
     "output_type": "display_data"
    }
   ],
   "source": [
    "data['rating'].plot.hist(bins=50)"
   ]
  },
  {
   "cell_type": "markdown",
   "id": "8e636466",
   "metadata": {},
   "source": [
    "# 2.2 First Bullet Point: Fat, Carbohydrates, Fibre, Sugars, Calories\n",
    "# 2.2 Second Bullet Point: (Assuming they are increased, this is how they affect the rating) Fat -> Decrease | \n",
    "#                          Carbohydrates -> Decrease | Fibre -> Increase | Sugars -> Decrease | Calories -> Decrease | \n",
    "#                          Protein -> Increase"
   ]
  },
  {
   "cell_type": "code",
   "execution_count": 83,
   "id": "b11ac342",
   "metadata": {},
   "outputs": [
    {
     "name": "stdout",
     "output_type": "stream",
     "text": [
      "                           calories  protein  fat  sodium  fiber  carbo  \\\n",
      "name                                                                      \n",
      "100% Bran                        70        4    1     130   10.0    5.0   \n",
      "100% Natural Bran               120        3    5      15    2.0    8.0   \n",
      "All-Bran                         70        4    1     260    9.0    7.0   \n",
      "All-Bran with Extra Fiber        50        4    0     140   14.0    8.0   \n",
      "Almond Delight                  110        2    2     200    1.0   14.0   \n",
      "...                             ...      ...  ...     ...    ...    ...   \n",
      "Triples                         110        2    1     250    0.0   21.0   \n",
      "Trix                            110        1    1     140    0.0   13.0   \n",
      "Wheat Chex                      100        3    1     230    3.0   17.0   \n",
      "Wheaties                        100        3    1     200    3.0   17.0   \n",
      "Wheaties Honey Gold             110        2    1     200    1.0   16.0   \n",
      "\n",
      "                           sugars  potass  vitamins  shelf  weight  cups  \\\n",
      "name                                                                       \n",
      "100% Bran                       6     280        25      3     1.0  0.33   \n",
      "100% Natural Bran               8     135         0      3     1.0  1.00   \n",
      "All-Bran                        5     320        25      3     1.0  0.33   \n",
      "All-Bran with Extra Fiber       0     330        25      3     1.0  0.50   \n",
      "Almond Delight                  8      -1        25      3     1.0  0.75   \n",
      "...                           ...     ...       ...    ...     ...   ...   \n",
      "Triples                         3      60        25      3     1.0  0.75   \n",
      "Trix                           12      25        25      2     1.0  1.00   \n",
      "Wheat Chex                      3     115        25      1     1.0  0.67   \n",
      "Wheaties                        3     110        25      1     1.0  1.00   \n",
      "Wheaties Honey Gold             8      60        25      1     1.0  0.75   \n",
      "\n",
      "                              rating  Cluster  \n",
      "name                                           \n",
      "100% Bran                  68.402973        3  \n",
      "100% Natural Bran          33.983679        0  \n",
      "All-Bran                   59.425505        3  \n",
      "All-Bran with Extra Fiber  93.704912        3  \n",
      "Almond Delight             34.384843        2  \n",
      "...                              ...      ...  \n",
      "Triples                    39.106174        2  \n",
      "Trix                       27.753301        2  \n",
      "Wheat Chex                 49.787445        1  \n",
      "Wheaties                   51.592193        1  \n",
      "Wheaties Honey Gold        36.187559        2  \n",
      "\n",
      "[77 rows x 14 columns]\n"
     ]
    }
   ],
   "source": [
    "from sklearn import preprocessing\n",
    "from sklearn.cluster import KMeans\n",
    "\n",
    "data = data.drop('mfr', 1) \n",
    "data = data.drop('type', 1)\n",
    "\n",
    "data_scaled =  preprocessing.scale(data)\n",
    "data_scaled = pd.DataFrame(data_scaled)\n",
    "\n",
    "kmeans = KMeans(n_clusters = 4, random_state=0)\n",
    "clusters = kmeans.fit_predict(data_scaled)\n",
    "\n",
    "data['Cluster'] = clusters\n",
    "print(data)"
   ]
  },
  {
   "cell_type": "code",
   "execution_count": 84,
   "id": "6a4f2899",
   "metadata": {},
   "outputs": [
    {
     "name": "stdout",
     "output_type": "stream",
     "text": [
      "           calories   protein       fat      sodium      fiber      carbo  \\\n",
      "Cluster                                                                     \n",
      "0        128.235294  3.117647  2.058824  157.352941   3.294118  14.235294   \n",
      "1         93.043478  3.173913  0.565217  105.217391   2.465217  15.000000   \n",
      "2        109.411765  1.705882  0.823529  196.176471   0.588235  15.205882   \n",
      "3         63.333333  4.000000  0.666667  176.666667  11.000000   6.666667   \n",
      "\n",
      "           sugars      potass   vitamins     shelf    weight      cups  \\\n",
      "Cluster                                                                  \n",
      "0        9.705882  159.117647  32.352941  2.941176  1.202941  0.701765   \n",
      "1        2.869565   95.826087  20.652174  2.000000  0.949130  0.820435   \n",
      "2        8.558824   45.852941  31.617647  1.911765  1.000000  0.919412   \n",
      "3        3.666667  310.000000  25.000000  3.000000  1.000000  0.386667   \n",
      "\n",
      "            rating  \n",
      "Cluster             \n",
      "0        37.306830  \n",
      "1        56.383797  \n",
      "2        33.314190  \n",
      "3        73.844463  \n"
     ]
    }
   ],
   "source": [
    "print(data.groupby('Cluster').mean())"
   ]
  },
  {
   "cell_type": "code",
   "execution_count": 85,
   "id": "36cc3002",
   "metadata": {},
   "outputs": [
    {
     "data": {
      "text/plain": [
       "<AxesSubplot:xlabel='Cluster', ylabel='rating'>"
      ]
     },
     "execution_count": 85,
     "metadata": {},
     "output_type": "execute_result"
    },
    {
     "data": {
      "image/png": "[encoded data removed]",
      "text/plain": [
       "<Figure size 432x288 with 1 Axes>"
      ]
     },
     "metadata": {
      "needs_background": "light"
     },
     "output_type": "display_data"
    }
   ],
   "source": [
    "data.plot.scatter(x='Cluster',y='rating')"
   ]
  },
  {
   "cell_type": "code",
   "execution_count": 94,
   "id": "f1ddec6b",
   "metadata": {},
   "outputs": [
    {
     "data": {
      "text/plain": [
       "Text(0, 0.5, 'Euclidean Distances')"
      ]
     },
     "execution_count": 94,
     "metadata": {},
     "output_type": "execute_result"
    },
    {
     "data": {
      "image/png": "[encoded data removed]",
      "text/plain": [
       "<Figure size 432x288 with 1 Axes>"
      ]
     },
     "metadata": {
      "needs_background": "light"
     },
     "output_type": "display_data"
    }
   ],
   "source": [
    "import scipy.cluster.hierarchy as shc # Used to visualise dendograms\n",
    "plt.title(\"Single Linkage Dendogram\")\n",
    "shc.dendrogram(shc.linkage(data_scaled, method='single'))\n",
    "plt.xlabel('Nutrients')\n",
    "plt.ylabel('Euclidean Distances')"
   ]
  },
  {
   "cell_type": "code",
   "execution_count": null,
   "id": "78ea6663",
   "metadata": {},
   "outputs": [],
   "source": []
  }
 ],
 "metadata": {
  "kernelspec": {
   "display_name": "Python 3",
   "language": "python",
   "name": "python3"
  },
  "language_info": {
   "codemirror_mode": {
    "name": "ipython",
    "version": 3
   },
   "file_extension": ".py",
   "mimetype": "text/x-python",
   "name": "python",
   "nbconvert_exporter": "python",
   "pygments_lexer": "ipython3",
   "version": "3.8.8"
  }
 },
 "nbformat": 4,
 "nbformat_minor": 5
}
