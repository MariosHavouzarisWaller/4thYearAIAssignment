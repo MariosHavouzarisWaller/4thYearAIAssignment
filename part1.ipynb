{
 "cells": [
  {
   "cell_type": "markdown",
   "id": "ff9c88c0",
   "metadata": {},
   "source": [
    "# Part 1:\n",
    "# 1.1 First Bullet Point: I will be using the heuristic method known as Hill-Climbing in order to find a solution to this \n",
    "# particular problem. To do so I will represent the solution as a list of binary digits of length n where n is the number \n",
    "# of items.\n",
    "# 1.1 Second Bullet Point: To quantify the quality of the canditate solution I will find the difference between the two\n",
    "# canditate values and the smallest difference represents being part of the best canditate solution"
   ]
  },
  {
   "cell_type": "code",
   "execution_count": 2,
   "id": "802f4d6d",
   "metadata": {},
   "outputs": [
    {
     "name": "stdout",
     "output_type": "stream",
     "text": [
      "Best Solution: [1, 1, 1, 1, 1, 1, 1, 1, 1, 1, 1, 1, 1, 1, 1, 1, 1, 1, 1, 1, 1, 1, 1, 1, 1, 1, 1, 1, 1, 1, 1, 1, 1, 1, 1, 1, 1, 1, 1, 1, 1, 1, 1, 1, 1, 1, 1, 1, 1, 1]\n",
      " Best Value: 543143\n",
      " Trace: [852283, 543143, 649871, 688481, 2458967, 4439709, 5219457, 6015745, 6579311, 8029285, 8536335, 9444819, 9566625, 11661103, 12876537, 13854165, 14273597, 15233097, 16564495, 18310081, 19582501, 21174723, 22104567, 23739545, 24620161, 25114749, 25508425, 27278871]\n"
     ]
    },
    {
     "data": {
      "image/png": "[encoded data removed]",
      "text/plain": [
       "<Figure size 432x288 with 1 Axes>"
      ]
     },
     "metadata": {
      "needs_background": "light"
     },
     "output_type": "display_data"
    },
    {
     "data": {
      "image/png": "[encoded data removed]",
      "text/plain": [
       "<Figure size 432x288 with 1 Axes>"
      ]
     },
     "metadata": {
      "needs_background": "light"
     },
     "output_type": "display_data"
    }
   ],
   "source": [
    "# 1.2:\n",
    "\n",
    "import csv\n",
    "import random as rnd\n",
    "import matplotlib.pyplot as plt\n",
    "\n",
    "def read_art_data(fname):       \n",
    "    rows = []\n",
    "    with open(fname, 'r') as file: \n",
    "        csvreader = csv.reader(file)\n",
    "        n = len(next(csvreader))\n",
    "        for row in csvreader:\n",
    "            rows.append(row)\n",
    "    return n, rows\n",
    "    \n",
    "\n",
    "# Reading data from a file, in this example the instance with 5 items\n",
    "artfile = \"values50.csv\"     \n",
    "n, values = read_art_data(artfile)\n",
    "\n",
    "# # To increase the chance of generating a valid solution, we produce a random string with less number of 1's than 0's\n",
    "# # Output: a random solution, as well as its value and weight \n",
    "\n",
    "def random_sol(l):\n",
    "    sol = rnd.choices([0,1], weights=[50, 50], k = l)\n",
    "    return sol\n",
    "\n",
    "solution = random_sol(n)\n",
    "\n",
    "    # Implementation using a for loop\n",
    "def evaluate(sol):\n",
    "    AnneVal = 0\n",
    "    BobVal = 0\n",
    "    for i in range(n):\n",
    "        if sol[i] == 1:\n",
    "            AnneVal += int(values[0][i])\n",
    "        if sol[i] == 0:\n",
    "            BobVal += int(values[0][i]) \n",
    "    return AnneVal, BobVal\n",
    "\n",
    "def neighbour(sol) :\n",
    "    neig = sol[:]\n",
    "    i = rnd.randint(0, n-1)\n",
    "    neig[i] = 0 if sol[i] == 1 else 1\n",
    "    return neig\n",
    "\n",
    "neig = neighbour(solution)\n",
    "\n",
    "def hill_climbing(maxiter):\n",
    "    trace = []\n",
    "    t = []\n",
    "    s = random_sol(n)\n",
    "    v = evaluate(s)\n",
    "    trace.append(v)\n",
    "    for i in range(maxiter):\n",
    "        s1 = neighbour(s)\n",
    "        v1 = evaluate(s1)\n",
    "        if v1 >= v:\n",
    "            v = v1\n",
    "            s = s1[:]\n",
    "            trace.append(v)\n",
    "    for j in trace:\n",
    "        v2 = j[0] - j[1]\n",
    "        if v2 < 0:\n",
    "             v2 *= -1\n",
    "        t.append(v2)\n",
    "    v = min(t)\n",
    "    return s, v, t, trace\n",
    "\n",
    "# 1.3\n",
    "\n",
    "ntries = 200 # Could implement with a random number generator to try with different number\n",
    "nruns = 30\n",
    "s, v, t, trace = hill_climbing(ntries)\n",
    "print(f'Best Solution: {s}\\n Best Value: {v}\\n Trace: {t}')\n",
    "\n",
    "plt.plot(t, color='green', linewidth=2)\n",
    "plt.title('Hill-Climbing Trace')\n",
    "plt.ylabel('Values')\n",
    "plt.xlabel('Improving Steps')\n",
    "\n",
    "plt.plot(trace, color='red', linewidth=2)\n",
    "plt.title('Hill-Climbing Trace')\n",
    "plt.ylabel('Values')\n",
    "plt.xlabel('Improving Steps')\n",
    "plt.show()\n",
    "\n",
    "hc_vals = []\n",
    "for i in range(nruns):\n",
    "    s, v, t, trace = hill_climbing(ntries)\n",
    "    hc_vals.append(v)\n",
    "\n",
    "plt.title(\"Hill Climbing\")\n",
    "plt.ylabel(\"Values\")\n",
    "plt.boxplot(hc_vals)\n",
    "plt.show()"
   ]
  },
  {
   "cell_type": "code",
   "execution_count": null,
   "id": "f7a0bd31",
   "metadata": {},
   "outputs": [],
   "source": []
  },
  {
   "cell_type": "code",
   "execution_count": null,
   "id": "c48649c9",
   "metadata": {},
   "outputs": [],
   "source": []
  },
  {
   "cell_type": "code",
   "execution_count": null,
   "id": "d3a1313b",
   "metadata": {},
   "outputs": [],
   "source": []
  }
 ],
 "metadata": {
  "kernelspec": {
   "display_name": "Python 3",
   "language": "python",
   "name": "python3"
  },
  "language_info": {
   "codemirror_mode": {
    "name": "ipython",
    "version": 3
   },
   "file_extension": ".py",
   "mimetype": "text/x-python",
   "name": "python",
   "nbconvert_exporter": "python",
   "pygments_lexer": "ipython3",
   "version": "3.8.8"
  }
 },
 "nbformat": 4,
 "nbformat_minor": 5
}
